{
  "nbformat": 4,
  "nbformat_minor": 0,
  "metadata": {
    "colab": {
      "provenance": [],
      "authorship_tag": "ABX9TyMltJgAii8FrGLXsQz1WIQ9",
      "include_colab_link": true
    },
    "kernelspec": {
      "name": "python3",
      "display_name": "Python 3"
    },
    "language_info": {
      "name": "python"
    }
  },
  "cells": [
    {
      "cell_type": "markdown",
      "metadata": {
        "id": "view-in-github",
        "colab_type": "text"
      },
      "source": [
        "<a href=\"https://colab.research.google.com/github/Nyzt/Study-Samsung/blob/main/Prueba%201.ipynb\" target=\"_parent\"><img src=\"https://colab.research.google.com/assets/colab-badge.svg\" alt=\"Open In Colab\"/></a>"
      ]
    },
    {
      "cell_type": "code",
      "execution_count": null,
      "metadata": {
        "id": "CrumVJ61dmO4"
      },
      "outputs": [],
      "source": []
    },
    {
      "cell_type": "markdown",
      "source": [
        "#Ingresa a la Comunidad de Samsung Members\n",
        ">Comienza tu viaje con Samsung Galaxy aquí, en Samsung Members.\n",
        "Amplía tus posibilidades de conectarte con otros usuarios al compartir mucha información\n",
        "y disfruta de numerosas ventajas al explorar los distintos consejos sobre dispositivos y obtener soporte de expertos.\n",
        "Completa tu experiencia móvil en Samsung Members.\n",
        "\n",
        "![Imagen](https://images.samsung.com/is/image/samsung/assets/cl/apps/2023-samsung-members/members_dotcom_dotcom_kv_pc_1_1440x790.jpg?$1440_N_JPG$)"
      ],
      "metadata": {
        "id": "35S9aLnGdnb-"
      }
    }
  ]
}